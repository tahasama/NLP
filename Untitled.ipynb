{
 "cells": [
  {
   "cell_type": "code",
   "execution_count": 1,
   "id": "df441421-e652-41d3-ad91-93581bb29dca",
   "metadata": {},
   "outputs": [],
   "source": [
    "import nltk\n",
    "from nltk.tokenize import word_tokenize\n",
    "from nltk.corpus import stopwords\n",
    "from nltk.stem import WordNetLemmatizer\n",
    "import string\n",
    "\n",
    "# Download NLTK resources (uncomment and run this line if needed)\n",
    "#nltk.download('punkt')\n",
    "#nltk.download('stopwords')\n",
    "#nltk.download('wordnet')\n",
    "\n",
    "# Initialize NLTK components\n",
    "lemmatizer = WordNetLemmatizer()\n",
    "stop_words = set(stopwords.words('english'))\n",
    "\n",
    "def preprocess_input(input_text):\n",
    "    # Tokenize the input text\n",
    "    tokens = word_tokenize(input_text.lower())\n",
    "    \n",
    "    # Remove punctuation and stop words\n",
    "    tokens = [token for token in tokens if token not in string.punctuation and token not in stop_words]\n",
    "    \n",
    "    # Lemmatize tokens\n",
    "    tokens = [lemmatizer.lemmatize(token) for token in tokens]\n",
    "    \n",
    "    return tokens\n"
   ]
  },
  {
   "cell_type": "code",
   "execution_count": 2,
   "id": "b9d0c5e5-6251-4f5c-bace-4e2eac9c124b",
   "metadata": {},
   "outputs": [],
   "source": [
    "def recognize_intent(tokens):\n",
    "    # Define intents and corresponding keywords\n",
    "    intents = {\n",
    "        'solve_equation': {'solve', 'equation'},\n",
    "        'explain_concept': {'explain', 'concept'},\n",
    "        'ask_help': {'help', 'understand'}\n",
    "    }\n",
    "    \n",
    "    # Check for keywords in the preprocessed tokens\n",
    "    for intent, keywords in intents.items():\n",
    "        if any(keyword in tokens for keyword in keywords):\n",
    "            return intent\n",
    "    \n",
    "    # If no intent is recognized, return a default intent\n",
    "    return 'unknown_intent'\n"
   ]
  },
  {
   "cell_type": "code",
   "execution_count": 3,
   "id": "74275bf3-b77c-45df-bc50-0cce26c841c7",
   "metadata": {},
   "outputs": [
    {
     "name": "stdout",
     "output_type": "stream",
     "text": [
      "Intent for query 1: solve_equation\n",
      "Intent for query 2: solve_equation\n",
      "Intent for query 3: explain_concept\n"
     ]
    }
   ],
   "source": [
    "# Sample queries to test intent recognition\n",
    "query1 = \"Can you help me understand linear equations?\"\n",
    "query2 = \"How do I solve a quadratic equation?\"\n",
    "query3 = \"Explain factoring polynomials to me.\"\n",
    "\n",
    "# Preprocess input queries\n",
    "tokens1 = preprocess_input(query1)\n",
    "tokens2 = preprocess_input(query2)\n",
    "tokens3 = preprocess_input(query3)\n",
    "\n",
    "# Recognize intents for each query\n",
    "intent1 = recognize_intent(tokens1)\n",
    "intent2 = recognize_intent(tokens2)\n",
    "intent3 = recognize_intent(tokens3)\n",
    "\n",
    "# Print recognized intents\n",
    "print(\"Intent for query 1:\", intent1)\n",
    "print(\"Intent for query 2:\", intent2)\n",
    "print(\"Intent for query 3:\", intent3)\n"
   ]
  },
  {
   "cell_type": "code",
   "execution_count": 4,
   "id": "71ec2d73-08a2-433a-9099-58dd44fadd62",
   "metadata": {},
   "outputs": [],
   "source": [
    "def generate_response(intent):\n",
    "    # Define sample responses for each intent\n",
    "    responses = {\n",
    "        'solve_equation': \"To solve for x, isolate it on one side of the equation and perform the necessary operations.\",\n",
    "        'explain_concept': \"Sure! What concept would you like me to explain?\",\n",
    "        'ask_help': \"Of course! How can I assist you?\"\n",
    "    }\n",
    "    \n",
    "    # Retrieve the response for the recognized intent\n",
    "    response = responses.get(intent, \"I'm sorry, I'm not sure how to respond to that.\")\n",
    "    \n",
    "    return response\n"
   ]
  },
  {
   "cell_type": "code",
   "execution_count": 5,
   "id": "fd6663d7-cce1-48dd-82e2-2223944ec55d",
   "metadata": {},
   "outputs": [
    {
     "name": "stdout",
     "output_type": "stream",
     "text": [
      "Response for query 1: To solve for x, isolate it on one side of the equation and perform the necessary operations.\n",
      "Response for query 2: To solve for x, isolate it on one side of the equation and perform the necessary operations.\n",
      "Response for query 3: Sure! What concept would you like me to explain?\n"
     ]
    }
   ],
   "source": [
    "# Generate responses for each recognized intent\n",
    "response1 = generate_response(intent1)\n",
    "response2 = generate_response(intent2)\n",
    "response3 = generate_response(intent3)\n",
    "\n",
    "# Print generated responses\n",
    "print(\"Response for query 1:\", response1)\n",
    "print(\"Response for query 2:\", response2)\n",
    "print(\"Response for query 3:\", response3)\n"
   ]
  },
  {
   "cell_type": "code",
   "execution_count": null,
   "id": "a7dc8456-861b-49ab-81ee-4232bcab782b",
   "metadata": {},
   "outputs": [],
   "source": [
    "# Define the main interactive loop\n",
    "def chat():\n",
    "    print(\"Welcome to the Algebraic Conversational AI!\")\n",
    "    print(\"You can ask questions about algebra, and I'll do my best to help you.\")\n",
    "\n",
    "    while True:\n",
    "        # Get user input\n",
    "        user_input = input(\"\\nYou: \").strip()\n",
    "\n",
    "        # Preprocess user input\n",
    "        tokens = preprocess_input(user_input)\n",
    "\n",
    "        # Recognize intent\n",
    "        intent = recognize_intent(tokens)\n",
    "\n",
    "        # Generate response\n",
    "        response = generate_response(intent)\n",
    "\n",
    "        # Print AI response\n",
    "        print(\"AI:\", response)\n",
    "\n",
    "        # Check if the user wants to end the conversation\n",
    "        if user_input.lower() == 'exit':\n",
    "            print(\"Goodbye!\")\n",
    "            break\n",
    "\n",
    "# Start the conversation\n",
    "chat()\n"
   ]
  },
  {
   "cell_type": "code",
   "execution_count": null,
   "id": "b78a4489-8085-497e-b101-c8c6d3cb42fb",
   "metadata": {},
   "outputs": [],
   "source": [
    "import random\n",
    "\n",
    "# Define templates for different types of algebraic questions\n",
    "equation_template = \"Solve the equation {} for {}.\"\n",
    "expression_template = \"Simplify the expression {}.\"\n",
    "concept_template = \"Explain {} to me.\"\n",
    "\n",
    "# Generate synthetic questions and answers\n",
    "def generate_synthetic_data(num_questions_per_intent):\n",
    "    synthetic_data = []\n",
    "    \n",
    "    # Generate questions for solving equations\n",
    "    for _ in range(num_questions_per_intent):\n",
    "        equation = \"2x + 3 = 9\"  # Example equation\n",
    "        variable = \"x\"\n",
    "        question = equation_template.format(equation, variable)\n",
    "        answer = \"To solve for x, subtract 3 from both sides and then divide both sides by 2.\"\n",
    "        synthetic_data.append((question, answer))\n",
    "    \n",
    "    # Generate questions for simplifying expressions\n",
    "    for _ in range(num_questions_per_intent):\n",
    "        expression = \"2x^2 + 3x - 5\"  # Example expression\n",
    "        question = expression_template.format(expression)\n",
    "        answer = \"The expression can be simplified by combining like terms.\"\n",
    "        synthetic_data.append((question, answer))\n",
    "    \n",
    "    # Generate questions for explaining concepts\n",
    "    for _ in range(num_questions_per_intent):\n",
    "        concept = \"factoring polynomials\"  # Example concept\n",
    "        question = concept_template.format(concept)\n",
    "        answer = \"Factoring polynomials involves expressing a polynomial as a product of its factors.\"\n",
    "        synthetic_data.append((question, answer))\n",
    "    \n",
    "    return synthetic_data\n",
    "\n",
    "# Generate synthetic data with 5 questions per intent\n",
    "synthetic_data = generate_synthetic_data(num_questions_per_intent=5)\n",
    "\n",
    "# Print the generated synthetic data\n",
    "for i, (question, answer) in enumerate(synthetic_data, start=1):\n",
    "    print(f\"Question {i}: {question}\")\n",
    "    print(f\"Answer {i}: {answer}\\n\")\n"
   ]
  },
  {
   "cell_type": "code",
   "execution_count": null,
   "id": "ceb87736-3030-4739-b1bd-c54fe047bf1f",
   "metadata": {},
   "outputs": [],
   "source": [
    "import nltk\n",
    "from nltk.tokenize import word_tokenize\n",
    "from nltk.corpus import stopwords\n",
    "from nltk.stem import WordNetLemmatizer\n",
    "import string\n",
    "\n",
    "# Download NLTK resources (uncomment and run this line if needed)\n",
    "# nltk.download('punkt')\n",
    "# nltk.download('stopwords')\n",
    "# nltk.download('wordnet')\n",
    "\n",
    "# Initialize NLTK components\n",
    "lemmatizer = WordNetLemmatizer()\n",
    "stop_words = set(stopwords.words('english'))\n",
    "\n",
    "def preprocess_text(text):\n",
    "    # Tokenize the text\n",
    "    tokens = word_tokenize(text.lower())\n",
    "    \n",
    "    # Remove punctuation and stop words\n",
    "    tokens = [token for token in tokens if token not in string.punctuation and token not in stop_words]\n",
    "    \n",
    "    # Lemmatize tokens\n",
    "    tokens = [lemmatizer.lemmatize(token) for token in tokens]\n",
    "    \n",
    "    # Join tokens back into a string\n",
    "    processed_text = ' '.join(tokens)\n",
    "    \n",
    "    return processed_text\n",
    "\n",
    "# Preprocess synthetic data\n",
    "preprocessed_synthetic_data = [(preprocess_text(question), preprocess_text(answer)) for question, answer in synthetic_data]\n",
    "\n",
    "# Print preprocessed synthetic data\n",
    "for i, (question, answer) in enumerate(preprocessed_synthetic_data, start=1):\n",
    "    print(f\"Question {i}: {question}\")\n",
    "    print(f\"Answer {i}: {answer}\\n\")\n",
    "\n"
   ]
  },
  {
   "cell_type": "code",
   "execution_count": null,
   "id": "291ee694-ae64-41e2-90c4-eb0b96411393",
   "metadata": {},
   "outputs": [],
   "source": [
    "from sklearn.model_selection import train_test_split\n",
    "\n",
    "# Split the preprocessed data into training and testing sets (80% train, 20% test)\n",
    "train_data, test_data = train_test_split(preprocessed_synthetic_data, test_size=0.2, random_state=42)\n",
    "\n",
    "# Print the number of samples in each set\n",
    "print(\"Number of training samples:\", len(train_data))\n",
    "print(\"Number of testing samples:\", len(test_data))\n"
   ]
  },
  {
   "cell_type": "code",
   "execution_count": null,
   "id": "560712d0-0df8-4ff8-aa2e-35c5fe6229e3",
   "metadata": {},
   "outputs": [],
   "source": [
    "from sklearn.feature_extraction.text import TfidfVectorizer\n",
    "\n",
    "# Initialize TF-IDF vectorizer\n",
    "tfidf_vectorizer = TfidfVectorizer()\n",
    "\n",
    "# Fit vectorizer on training data and transform training and testing data\n",
    "X_train = tfidf_vectorizer.fit_transform([question for question, _ in train_data])\n",
    "X_test = tfidf_vectorizer.transform([question for question, _ in test_data])\n",
    "\n",
    "# Print the shape of the vectorized data\n",
    "print(\"Shape of training data:\", X_train.shape)\n",
    "print(\"Shape of testing data:\", X_test.shape)\n"
   ]
  },
  {
   "cell_type": "code",
   "execution_count": null,
   "id": "73e36b1c-9150-405c-a008-9eb53298dafc",
   "metadata": {},
   "outputs": [],
   "source": [
    "print(\"hello\")"
   ]
  },
  {
   "cell_type": "code",
   "execution_count": 17,
   "id": "0028ac50-daf2-4013-9cfc-52f65b8d851a",
   "metadata": {},
   "outputs": [
    {
     "name": "stdout",
     "output_type": "stream",
     "text": [
      "Epoch 1/10\n"
     ]
    },
    {
     "name": "stderr",
     "output_type": "stream",
     "text": [
      "C:\\Users\\RPC\\anaconda3\\Lib\\site-packages\\keras\\src\\layers\\core\\dense.py:85: UserWarning: Do not pass an `input_shape`/`input_dim` argument to a layer. When using Sequential models, prefer using an `Input(shape)` object as the first layer in the model instead.\n",
      "  super().__init__(activity_regularizer=activity_regularizer, **kwargs)\n"
     ]
    },
    {
     "name": "stdout",
     "output_type": "stream",
     "text": [
      "\u001b[1m1/1\u001b[0m \u001b[32m━━━━━━━━━━━━━━━━━━━━\u001b[0m\u001b[37m\u001b[0m \u001b[1m3s\u001b[0m 3s/step - accuracy: 0.1111 - loss: 1.2062 - val_accuracy: 0.6667 - val_loss: 1.0791\n",
      "Epoch 2/10\n",
      "\u001b[1m1/1\u001b[0m \u001b[32m━━━━━━━━━━━━━━━━━━━━\u001b[0m\u001b[37m\u001b[0m \u001b[1m0s\u001b[0m 87ms/step - accuracy: 0.2222 - loss: 1.1410 - val_accuracy: 0.6667 - val_loss: 1.0644\n",
      "Epoch 3/10\n",
      "\u001b[1m1/1\u001b[0m \u001b[32m━━━━━━━━━━━━━━━━━━━━\u001b[0m\u001b[37m\u001b[0m \u001b[1m0s\u001b[0m 90ms/step - accuracy: 0.1111 - loss: 1.1434 - val_accuracy: 0.6667 - val_loss: 1.0495\n",
      "Epoch 4/10\n",
      "\u001b[1m1/1\u001b[0m \u001b[32m━━━━━━━━━━━━━━━━━━━━\u001b[0m\u001b[37m\u001b[0m \u001b[1m0s\u001b[0m 91ms/step - accuracy: 0.2222 - loss: 1.1123 - val_accuracy: 0.6667 - val_loss: 1.0353\n",
      "Epoch 5/10\n",
      "\u001b[1m1/1\u001b[0m \u001b[32m━━━━━━━━━━━━━━━━━━━━\u001b[0m\u001b[37m\u001b[0m \u001b[1m0s\u001b[0m 101ms/step - accuracy: 0.3333 - loss: 1.0798 - val_accuracy: 0.6667 - val_loss: 1.0208\n",
      "Epoch 6/10\n",
      "\u001b[1m1/1\u001b[0m \u001b[32m━━━━━━━━━━━━━━━━━━━━\u001b[0m\u001b[37m\u001b[0m \u001b[1m0s\u001b[0m 91ms/step - accuracy: 0.3333 - loss: 1.0477 - val_accuracy: 0.6667 - val_loss: 1.0066\n",
      "Epoch 7/10\n",
      "\u001b[1m1/1\u001b[0m \u001b[32m━━━━━━━━━━━━━━━━━━━━\u001b[0m\u001b[37m\u001b[0m \u001b[1m0s\u001b[0m 104ms/step - accuracy: 0.5556 - loss: 1.0322 - val_accuracy: 0.6667 - val_loss: 0.9925\n",
      "Epoch 8/10\n",
      "\u001b[1m1/1\u001b[0m \u001b[32m━━━━━━━━━━━━━━━━━━━━\u001b[0m\u001b[37m\u001b[0m \u001b[1m0s\u001b[0m 91ms/step - accuracy: 0.6667 - loss: 1.0182 - val_accuracy: 1.0000 - val_loss: 0.9784\n",
      "Epoch 9/10\n",
      "\u001b[1m1/1\u001b[0m \u001b[32m━━━━━━━━━━━━━━━━━━━━\u001b[0m\u001b[37m\u001b[0m \u001b[1m0s\u001b[0m 88ms/step - accuracy: 0.6667 - loss: 1.0165 - val_accuracy: 1.0000 - val_loss: 0.9648\n",
      "Epoch 10/10\n",
      "\u001b[1m1/1\u001b[0m \u001b[32m━━━━━━━━━━━━━━━━━━━━\u001b[0m\u001b[37m\u001b[0m \u001b[1m0s\u001b[0m 88ms/step - accuracy: 0.8889 - loss: 0.9957 - val_accuracy: 1.0000 - val_loss: 0.9511\n",
      "Model Accuracy: 1.0\n"
     ]
    }
   ],
   "source": [
    "import numpy as np\n",
    "import tensorflow as tf\n",
    "from tensorflow.keras.models import Sequential\n",
    "from tensorflow.keras.layers import Dense, Dropout\n",
    "from sklearn.model_selection import train_test_split\n",
    "from sklearn.feature_extraction.text import TfidfVectorizer\n",
    "\n",
    "# Split the preprocessed data into training and testing sets (80% train, 20% test)\n",
    "train_data, test_data = train_test_split(preprocessed_synthetic_data, test_size=0.2, random_state=42)\n",
    "\n",
    "# Vectorize the text data using TF-IDF\n",
    "tfidf_vectorizer = TfidfVectorizer()\n",
    "X_train = tfidf_vectorizer.fit_transform([question for question, _ in train_data])\n",
    "X_test = tfidf_vectorizer.transform([question for question, _ in test_data])\n",
    "\n",
    "# Convert sparse matrices to dense NumPy arrays\n",
    "X_train = X_train.toarray()\n",
    "X_test = X_test.toarray()\n",
    "\n",
    "# Extract the true answers from the training data\n",
    "true_answers_train = [answer for _, answer in train_data]\n",
    "\n",
    "# Create a dictionary mapping each unique answer to its index\n",
    "answer_to_index = {answer: idx for idx, answer in enumerate(set(true_answers_train))}\n",
    "\n",
    "# Convert true answers to their corresponding indices for both training and testing data\n",
    "train_indices = [answer_to_index[answer] for answer in true_answers_train]\n",
    "\n",
    "# Split the training data into training and validation sets (80% train, 20% validation)\n",
    "X_train, X_val, train_indices, val_indices = train_test_split(X_train, train_indices, test_size=0.2, random_state=42)\n",
    "\n",
    "# Define the model architecture\n",
    "model = Sequential([\n",
    "    Dense(128, activation='relu', input_dim=X_train.shape[1]),\n",
    "    Dropout(0.2),\n",
    "    Dense(64, activation='relu'),\n",
    "    Dropout(0.2),\n",
    "    Dense(len(answer_to_index), activation='softmax')\n",
    "])\n",
    "\n",
    "# Compile the model\n",
    "model.compile(loss='sparse_categorical_crossentropy', optimizer='adam', metrics=['accuracy'])\n",
    "\n",
    "# Train the model using the training set and validate on the validation set\n",
    "history = model.fit(X_train, np.array(train_indices), epochs=10, batch_size=32, validation_data=(X_val, np.array(val_indices)))\n",
    "\n",
    "# Evaluate the model on testing data\n",
    "true_answers_test = [answer for _, answer in test_data]\n",
    "test_indices = [answer_to_index.get(answer, -1) for _, answer in test_data]  # Use get() to handle missing answers\n",
    "loss, accuracy = model.evaluate(X_test, np.array(test_indices), verbose=0)\n",
    "\n",
    "# Print the model's accuracy\n",
    "print(\"Model Accuracy:\", accuracy)\n"
   ]
  },
  {
   "cell_type": "code",
   "execution_count": 18,
   "id": "83acecd6-b822-425c-bb2c-6bc4862c6cec",
   "metadata": {},
   "outputs": [
    {
     "name": "stdout",
     "output_type": "stream",
     "text": [
      "\u001b[1m1/1\u001b[0m \u001b[32m━━━━━━━━━━━━━━━━━━━━\u001b[0m\u001b[37m\u001b[0m \u001b[1m0s\u001b[0m 93ms/step\n",
      "Text: simplify expression 2x^2 3x 5\n",
      "True Label: expression simplified combining like term\n",
      "Predicted Label: expression simplified combining like term\n",
      "---------------------------------------------\n",
      "Text: explain factoring polynomial\n",
      "True Label: factoring polynomial involves expressing polynomial product factor\n",
      "Predicted Label: factoring polynomial involves expressing polynomial product factor\n",
      "---------------------------------------------\n",
      "Text: solve equation 2x 3 9 x\n",
      "True Label: solve x subtract 3 side divide side 2\n",
      "Predicted Label: solve x subtract 3 side divide side 2\n",
      "---------------------------------------------\n"
     ]
    }
   ],
   "source": [
    "# Get the model's predictions on the testing data\n",
    "predictions = model.predict(X_test)\n",
    "predicted_indices = np.argmax(predictions, axis=1)\n",
    "\n",
    "# Map predicted indices back to answer labels\n",
    "predicted_answers = [list(answer_to_index.keys())[idx] for idx in predicted_indices]\n",
    "\n",
    "# Get the true labels from the testing data\n",
    "true_answers_test = [answer for _, answer in test_data]\n",
    "\n",
    "# Compare predicted and true labels\n",
    "for i in range(len(predicted_answers)):\n",
    "    print(f\"Text: {test_data[i][0]}\")\n",
    "    print(f\"True Label: {true_answers_test[i]}\")\n",
    "    print(f\"Predicted Label: {predicted_answers[i]}\")\n",
    "    print(\"---------------------------------------------\")\n"
   ]
  },
  {
   "cell_type": "code",
   "execution_count": 19,
   "id": "fc3a8248-012b-4556-8ffc-645107c3db1e",
   "metadata": {},
   "outputs": [
    {
     "name": "stdout",
     "output_type": "stream",
     "text": [
      "              precision    recall  f1-score   support\n",
      "\n",
      "           0       1.00      1.00      1.00         1\n",
      "           1       1.00      1.00      1.00         1\n",
      "           2       1.00      1.00      1.00         1\n",
      "\n",
      "    accuracy                           1.00         3\n",
      "   macro avg       1.00      1.00      1.00         3\n",
      "weighted avg       1.00      1.00      1.00         3\n",
      "\n"
     ]
    }
   ],
   "source": [
    "from sklearn.metrics import classification_report\n",
    "\n",
    "# Convert true labels and predicted labels to numerical indices\n",
    "true_indices = np.array([answer_to_index.get(answer, -1) for answer in true_answers_test])\n",
    "\n",
    "# Generate a classification report\n",
    "print(classification_report(true_indices, predicted_indices))\n"
   ]
  },
  {
   "cell_type": "code",
   "execution_count": 20,
   "id": "d3aaf27d-f343-49b7-b271-504ca3e4d82c",
   "metadata": {},
   "outputs": [
    {
     "data": {
      "image/png": "[encoded data removed]",
      "text/plain": [
       "<Figure size 800x600 with 2 Axes>"
      ]
     },
     "metadata": {},
     "output_type": "display_data"
    }
   ],
   "source": [
    "import matplotlib.pyplot as plt\n",
    "import seaborn as sns\n",
    "from sklearn.metrics import confusion_matrix\n",
    "\n",
    "# Generate confusion matrix\n",
    "conf_matrix = confusion_matrix(true_indices, predicted_indices)\n",
    "\n",
    "# Plot confusion matrix\n",
    "plt.figure(figsize=(8, 6))\n",
    "sns.heatmap(conf_matrix, annot=True, fmt='d', cmap='Blues', xticklabels=sorted(set(true_answers_test)), yticklabels=sorted(set(true_answers_test)))\n",
    "plt.xlabel('Predicted Label')\n",
    "plt.ylabel('True Label')\n",
    "plt.title('Confusion Matrix')\n",
    "plt.show()\n"
   ]
  },
  {
   "cell_type": "code",
   "execution_count": 22,
   "id": "978b1bd2-c09a-4680-9755-3aefebd941ca",
   "metadata": {},
   "outputs": [],
   "source": [
    "from sklearn.metrics import accuracy_score\n",
    "from sklearn.model_selection import GridSearchCV, RandomizedSearchCV\n",
    "\n",
    "def custom_scorer(model, X, y):\n",
    "    y_pred = np.argmax(model.predict(X), axis=1)\n",
    "    return accuracy_score(y, y_pred)\n",
    "\n",
    "param_grid = {\n",
    "    'learning_rate': [0.001, 0.01, 0.1],\n",
    "    'dropout_rate': [0.1, 0.2, 0.3],\n",
    "    'batch_size': [16, 32, 64],\n",
    "    'num_layers': [1, 2, 3],\n",
    "    'num_units': [64, 128, 256]\n",
    "}\n",
    "\n",
    "# Initialize GridSearchCV and RandomizedSearchCV with custom scoring\n",
    "grid_search = GridSearchCV(model, param_grid, cv=3, scoring=custom_scorer)\n",
    "random_search = RandomizedSearchCV(model, param_distributions=param_grid, n_iter=10, cv=3, scoring=custom_scorer)\n"
   ]
  },
  {
   "cell_type": "code",
   "execution_count": null,
   "id": "09bd5494-416c-470d-8249-474e48c3b785",
   "metadata": {},
   "outputs": [],
   "source": [
    "from tensorflow.keras.layers import Input, Dense, Dropout\n",
    "from tensorflow.keras.models import Model\n",
    "from tensorflow.keras.optimizers import Adam\n",
    "from sklearn.base import BaseEstimator, ClassifierMixin\n",
    "\n",
    "class KerasModel(BaseEstimator, ClassifierMixin):\n",
    "    def __init__(self, learning_rate=0.001, dropout_rate=0.2, num_layers=2, num_units=64, epochs=10, batch_size=32, validation_data=None):\n",
    "        self.learning_rate = learning_rate\n",
    "        self.dropout_rate = dropout_rate\n",
    "        self.num_layers = num_layers\n",
    "        self.num_units = num_units\n",
    "        self.epochs = epochs\n",
    "        self.batch_size = batch_size\n",
    "        self.validation_data = validation_data  # Pass validation data as argument\n",
    "        \n",
    "        self.model = self._build_model()\n",
    "        \n",
    "    def _build_model(self):\n",
    "        inputs = Input(shape=(X_train.shape[1],))  # Define input layer\n",
    "        x = inputs\n",
    "        for _ in range(self.num_layers):\n",
    "            x = Dense(self.num_units, activation='relu')(x)\n",
    "            x = Dropout(self.dropout_rate)(x)\n",
    "        outputs = Dense(num_classes, activation='softmax')(x)\n",
    "        \n",
    "        model = Model(inputs=inputs, outputs=outputs)\n",
    "        \n",
    "        optimizer = Adam(lr=self.learning_rate)\n",
    "        model.compile(optimizer=optimizer, loss='sparse_categorical_crossentropy', metrics=['accuracy'])\n",
    "        \n",
    "        return model\n",
    "        \n",
    "    def fit(self, X, y):\n",
    "        self.model.fit(X, y, epochs=self.epochs, batch_size=self.batch_size, validation_data=self.validation_data)  # Pass validation data to fit()\n",
    "        \n",
    "    def predict(self, X):\n",
    "        return self.model.predict_classes(X)\n",
    "    \n",
    "    def score(self, X, y):\n",
    "        _, accuracy = self.model.evaluate(X, y)\n",
    "        return accuracy\n"
   ]
  },
  {
   "cell_type": "code",
   "execution_count": null,
   "id": "a109cedb-2ecb-48ff-885c-c3979bdb552f",
   "metadata": {},
   "outputs": [],
   "source": [
    "print(\"hello again\")\n"
   ]
  },
  {
   "cell_type": "code",
   "execution_count": 34,
   "id": "197a6480-b56f-492c-b362-c51eeebecda8",
   "metadata": {},
   "outputs": [
    {
     "name": "stderr",
     "output_type": "stream",
     "text": [
      "C:\\Users\\RPC\\anaconda3\\Lib\\site-packages\\keras\\src\\layers\\core\\dense.py:85: UserWarning: Do not pass an `input_shape`/`input_dim` argument to a layer. When using Sequential models, prefer using an `Input(shape)` object as the first layer in the model instead.\n",
      "  super().__init__(activity_regularizer=activity_regularizer, **kwargs)\n",
      "C:\\Users\\RPC\\anaconda3\\Lib\\site-packages\\sklearn\\model_selection\\_split.py:700: UserWarning: The least populated class in y has only 2 members, which is less than n_splits=3.\n",
      "  warnings.warn(\n",
      "C:\\Users\\RPC\\anaconda3\\Lib\\site-packages\\keras\\src\\layers\\core\\dense.py:85: UserWarning: Do not pass an `input_shape`/`input_dim` argument to a layer. When using Sequential models, prefer using an `Input(shape)` object as the first layer in the model instead.\n",
      "  super().__init__(activity_regularizer=activity_regularizer, **kwargs)\n"
     ]
    },
    {
     "ename": "ValueError",
     "evalue": "\nAll the 729 fits failed.\nIt is very likely that your model is misconfigured.\nYou can try to debug the error by setting error_score='raise'.\n\nBelow are more details about the failures:\n--------------------------------------------------------------------------------\n243 fits failed with the following error:\nTraceback (most recent call last):\n  File \"C:\\Users\\RPC\\anaconda3\\Lib\\site-packages\\sklearn\\model_selection\\_validation.py\", line 686, in _fit_and_score\n    estimator.fit(X_train, y_train, **fit_params)\n  File \"C:\\Users\\RPC\\AppData\\Local\\Temp\\ipykernel_6884\\3480740408.py\", line 32, in fit\n    self.model.fit(X, y, epochs=self.epochs, batch_size=self.batch_size)\n  File \"C:\\Users\\RPC\\anaconda3\\Lib\\site-packages\\keras\\src\\utils\\traceback_utils.py\", line 123, in error_handler\n    raise e.with_traceback(filtered_tb) from None\n  File \"C:\\Users\\RPC\\anaconda3\\Lib\\site-packages\\keras\\src\\trainers\\data_adapters\\__init__.py\", line 113, in get_data_adapter\n    raise ValueError(f\"Unrecognized data type: x={x} (of type {type(x)})\")\nValueError: Unrecognized data type: x=[[0.         0.         0.         0.57735027 0.         0.57735027\n  0.57735027 0.         0.        ]\n [0.37443471 0.53534993 0.         0.         0.53534993 0.\n  0.         0.53534993 0.        ]\n [0.37443471 0.53534993 0.         0.         0.53534993 0.\n  0.         0.53534993 0.        ]\n [0.37443471 0.53534993 0.         0.         0.53534993 0.\n  0.         0.53534993 0.        ]\n [0.44331193 0.         0.63382748 0.         0.         0.\n  0.         0.         0.63382748]\n [0.44331193 0.         0.63382748 0.         0.         0.\n  0.         0.         0.63382748]] (of type <class 'numpy.ndarray'>)\n\n--------------------------------------------------------------------------------\n243 fits failed with the following error:\nTraceback (most recent call last):\n  File \"C:\\Users\\RPC\\anaconda3\\Lib\\site-packages\\sklearn\\model_selection\\_validation.py\", line 686, in _fit_and_score\n    estimator.fit(X_train, y_train, **fit_params)\n  File \"C:\\Users\\RPC\\AppData\\Local\\Temp\\ipykernel_6884\\3480740408.py\", line 32, in fit\n    self.model.fit(X, y, epochs=self.epochs, batch_size=self.batch_size)\n  File \"C:\\Users\\RPC\\anaconda3\\Lib\\site-packages\\keras\\src\\utils\\traceback_utils.py\", line 123, in error_handler\n    raise e.with_traceback(filtered_tb) from None\n  File \"C:\\Users\\RPC\\anaconda3\\Lib\\site-packages\\keras\\src\\trainers\\data_adapters\\__init__.py\", line 113, in get_data_adapter\n    raise ValueError(f\"Unrecognized data type: x={x} (of type {type(x)})\")\nValueError: Unrecognized data type: x=[[0.         0.         0.         0.57735027 0.         0.57735027\n  0.57735027 0.         0.        ]\n [0.37443471 0.53534993 0.         0.         0.53534993 0.\n  0.         0.53534993 0.        ]\n [0.37443471 0.53534993 0.         0.         0.53534993 0.\n  0.         0.53534993 0.        ]\n [0.44331193 0.         0.63382748 0.         0.         0.\n  0.         0.         0.63382748]\n [0.37443471 0.53534993 0.         0.         0.53534993 0.\n  0.         0.53534993 0.        ]\n [0.44331193 0.         0.63382748 0.         0.         0.\n  0.         0.         0.63382748]] (of type <class 'numpy.ndarray'>)\n\n--------------------------------------------------------------------------------\n243 fits failed with the following error:\nTraceback (most recent call last):\n  File \"C:\\Users\\RPC\\anaconda3\\Lib\\site-packages\\sklearn\\model_selection\\_validation.py\", line 686, in _fit_and_score\n    estimator.fit(X_train, y_train, **fit_params)\n  File \"C:\\Users\\RPC\\AppData\\Local\\Temp\\ipykernel_6884\\3480740408.py\", line 32, in fit\n    self.model.fit(X, y, epochs=self.epochs, batch_size=self.batch_size)\n  File \"C:\\Users\\RPC\\anaconda3\\Lib\\site-packages\\keras\\src\\utils\\traceback_utils.py\", line 123, in error_handler\n    raise e.with_traceback(filtered_tb) from None\n  File \"C:\\Users\\RPC\\anaconda3\\Lib\\site-packages\\keras\\src\\trainers\\data_adapters\\__init__.py\", line 113, in get_data_adapter\n    raise ValueError(f\"Unrecognized data type: x={x} (of type {type(x)})\")\nValueError: Unrecognized data type: x=[[0.         0.         0.         0.57735027 0.         0.57735027\n  0.57735027 0.         0.        ]\n [0.         0.         0.         0.57735027 0.         0.57735027\n  0.57735027 0.         0.        ]\n [0.37443471 0.53534993 0.         0.         0.53534993 0.\n  0.         0.53534993 0.        ]\n [0.37443471 0.53534993 0.         0.         0.53534993 0.\n  0.         0.53534993 0.        ]\n [0.44331193 0.         0.63382748 0.         0.         0.\n  0.         0.         0.63382748]\n [0.44331193 0.         0.63382748 0.         0.         0.\n  0.         0.         0.63382748]] (of type <class 'numpy.ndarray'>)\n",
     "output_type": "error",
     "traceback": [
      "\u001b[1;31m---------------------------------------------------------------------------\u001b[0m",
      "\u001b[1;31mValueError\u001b[0m                                Traceback (most recent call last)",
      "Cell \u001b[1;32mIn[34], line 20\u001b[0m\n\u001b[0;32m     17\u001b[0m random_search \u001b[38;5;241m=\u001b[39m RandomizedSearchCV(KerasModel(), param_distributions\u001b[38;5;241m=\u001b[39mparam_grid, n_iter\u001b[38;5;241m=\u001b[39m\u001b[38;5;241m10\u001b[39m, cv\u001b[38;5;241m=\u001b[39m\u001b[38;5;241m3\u001b[39m)\n\u001b[0;32m     19\u001b[0m \u001b[38;5;66;03m# Fit the models\u001b[39;00m\n\u001b[1;32m---> 20\u001b[0m grid_search\u001b[38;5;241m.\u001b[39mfit(X_train, train_indices)\n\u001b[0;32m     21\u001b[0m random_search\u001b[38;5;241m.\u001b[39mfit(X_train, train_indices)\n\u001b[0;32m     23\u001b[0m \u001b[38;5;66;03m# Print the best hyperparameters\u001b[39;00m\n",
      "File \u001b[1;32m~\\anaconda3\\Lib\\site-packages\\sklearn\\model_selection\\_search.py:874\u001b[0m, in \u001b[0;36mBaseSearchCV.fit\u001b[1;34m(self, X, y, groups, **fit_params)\u001b[0m\n\u001b[0;32m    868\u001b[0m     results \u001b[38;5;241m=\u001b[39m \u001b[38;5;28mself\u001b[39m\u001b[38;5;241m.\u001b[39m_format_results(\n\u001b[0;32m    869\u001b[0m         all_candidate_params, n_splits, all_out, all_more_results\n\u001b[0;32m    870\u001b[0m     )\n\u001b[0;32m    872\u001b[0m     \u001b[38;5;28;01mreturn\u001b[39;00m results\n\u001b[1;32m--> 874\u001b[0m \u001b[38;5;28mself\u001b[39m\u001b[38;5;241m.\u001b[39m_run_search(evaluate_candidates)\n\u001b[0;32m    876\u001b[0m \u001b[38;5;66;03m# multimetric is determined here because in the case of a callable\u001b[39;00m\n\u001b[0;32m    877\u001b[0m \u001b[38;5;66;03m# self.scoring the return type is only known after calling\u001b[39;00m\n\u001b[0;32m    878\u001b[0m first_test_score \u001b[38;5;241m=\u001b[39m all_out[\u001b[38;5;241m0\u001b[39m][\u001b[38;5;124m\"\u001b[39m\u001b[38;5;124mtest_scores\u001b[39m\u001b[38;5;124m\"\u001b[39m]\n",
      "File \u001b[1;32m~\\anaconda3\\Lib\\site-packages\\sklearn\\model_selection\\_search.py:1388\u001b[0m, in \u001b[0;36mGridSearchCV._run_search\u001b[1;34m(self, evaluate_candidates)\u001b[0m\n\u001b[0;32m   1386\u001b[0m \u001b[38;5;28;01mdef\u001b[39;00m \u001b[38;5;21m_run_search\u001b[39m(\u001b[38;5;28mself\u001b[39m, evaluate_candidates):\n\u001b[0;32m   1387\u001b[0m \u001b[38;5;250m    \u001b[39m\u001b[38;5;124;03m\"\"\"Search all candidates in param_grid\"\"\"\u001b[39;00m\n\u001b[1;32m-> 1388\u001b[0m     evaluate_candidates(ParameterGrid(\u001b[38;5;28mself\u001b[39m\u001b[38;5;241m.\u001b[39mparam_grid))\n",
      "File \u001b[1;32m~\\anaconda3\\Lib\\site-packages\\sklearn\\model_selection\\_search.py:851\u001b[0m, in \u001b[0;36mBaseSearchCV.fit.<locals>.evaluate_candidates\u001b[1;34m(candidate_params, cv, more_results)\u001b[0m\n\u001b[0;32m    844\u001b[0m \u001b[38;5;28;01melif\u001b[39;00m \u001b[38;5;28mlen\u001b[39m(out) \u001b[38;5;241m!=\u001b[39m n_candidates \u001b[38;5;241m*\u001b[39m n_splits:\n\u001b[0;32m    845\u001b[0m     \u001b[38;5;28;01mraise\u001b[39;00m \u001b[38;5;167;01mValueError\u001b[39;00m(\n\u001b[0;32m    846\u001b[0m         \u001b[38;5;124m\"\u001b[39m\u001b[38;5;124mcv.split and cv.get_n_splits returned \u001b[39m\u001b[38;5;124m\"\u001b[39m\n\u001b[0;32m    847\u001b[0m         \u001b[38;5;124m\"\u001b[39m\u001b[38;5;124minconsistent results. Expected \u001b[39m\u001b[38;5;132;01m{}\u001b[39;00m\u001b[38;5;124m \u001b[39m\u001b[38;5;124m\"\u001b[39m\n\u001b[0;32m    848\u001b[0m         \u001b[38;5;124m\"\u001b[39m\u001b[38;5;124msplits, got \u001b[39m\u001b[38;5;132;01m{}\u001b[39;00m\u001b[38;5;124m\"\u001b[39m\u001b[38;5;241m.\u001b[39mformat(n_splits, \u001b[38;5;28mlen\u001b[39m(out) \u001b[38;5;241m/\u001b[39m\u001b[38;5;241m/\u001b[39m n_candidates)\n\u001b[0;32m    849\u001b[0m     )\n\u001b[1;32m--> 851\u001b[0m _warn_or_raise_about_fit_failures(out, \u001b[38;5;28mself\u001b[39m\u001b[38;5;241m.\u001b[39merror_score)\n\u001b[0;32m    853\u001b[0m \u001b[38;5;66;03m# For callable self.scoring, the return type is only know after\u001b[39;00m\n\u001b[0;32m    854\u001b[0m \u001b[38;5;66;03m# calling. If the return type is a dictionary, the error scores\u001b[39;00m\n\u001b[0;32m    855\u001b[0m \u001b[38;5;66;03m# can now be inserted with the correct key. The type checking\u001b[39;00m\n\u001b[0;32m    856\u001b[0m \u001b[38;5;66;03m# of out will be done in `_insert_error_scores`.\u001b[39;00m\n\u001b[0;32m    857\u001b[0m \u001b[38;5;28;01mif\u001b[39;00m \u001b[38;5;28mcallable\u001b[39m(\u001b[38;5;28mself\u001b[39m\u001b[38;5;241m.\u001b[39mscoring):\n",
      "File \u001b[1;32m~\\anaconda3\\Lib\\site-packages\\sklearn\\model_selection\\_validation.py:367\u001b[0m, in \u001b[0;36m_warn_or_raise_about_fit_failures\u001b[1;34m(results, error_score)\u001b[0m\n\u001b[0;32m    360\u001b[0m \u001b[38;5;28;01mif\u001b[39;00m num_failed_fits \u001b[38;5;241m==\u001b[39m num_fits:\n\u001b[0;32m    361\u001b[0m     all_fits_failed_message \u001b[38;5;241m=\u001b[39m (\n\u001b[0;32m    362\u001b[0m         \u001b[38;5;124mf\u001b[39m\u001b[38;5;124m\"\u001b[39m\u001b[38;5;130;01m\\n\u001b[39;00m\u001b[38;5;124mAll the \u001b[39m\u001b[38;5;132;01m{\u001b[39;00mnum_fits\u001b[38;5;132;01m}\u001b[39;00m\u001b[38;5;124m fits failed.\u001b[39m\u001b[38;5;130;01m\\n\u001b[39;00m\u001b[38;5;124m\"\u001b[39m\n\u001b[0;32m    363\u001b[0m         \u001b[38;5;124m\"\u001b[39m\u001b[38;5;124mIt is very likely that your model is misconfigured.\u001b[39m\u001b[38;5;130;01m\\n\u001b[39;00m\u001b[38;5;124m\"\u001b[39m\n\u001b[0;32m    364\u001b[0m         \u001b[38;5;124m\"\u001b[39m\u001b[38;5;124mYou can try to debug the error by setting error_score=\u001b[39m\u001b[38;5;124m'\u001b[39m\u001b[38;5;124mraise\u001b[39m\u001b[38;5;124m'\u001b[39m\u001b[38;5;124m.\u001b[39m\u001b[38;5;130;01m\\n\u001b[39;00m\u001b[38;5;130;01m\\n\u001b[39;00m\u001b[38;5;124m\"\u001b[39m\n\u001b[0;32m    365\u001b[0m         \u001b[38;5;124mf\u001b[39m\u001b[38;5;124m\"\u001b[39m\u001b[38;5;124mBelow are more details about the failures:\u001b[39m\u001b[38;5;130;01m\\n\u001b[39;00m\u001b[38;5;132;01m{\u001b[39;00mfit_errors_summary\u001b[38;5;132;01m}\u001b[39;00m\u001b[38;5;124m\"\u001b[39m\n\u001b[0;32m    366\u001b[0m     )\n\u001b[1;32m--> 367\u001b[0m     \u001b[38;5;28;01mraise\u001b[39;00m \u001b[38;5;167;01mValueError\u001b[39;00m(all_fits_failed_message)\n\u001b[0;32m    369\u001b[0m \u001b[38;5;28;01melse\u001b[39;00m:\n\u001b[0;32m    370\u001b[0m     some_fits_failed_message \u001b[38;5;241m=\u001b[39m (\n\u001b[0;32m    371\u001b[0m         \u001b[38;5;124mf\u001b[39m\u001b[38;5;124m\"\u001b[39m\u001b[38;5;130;01m\\n\u001b[39;00m\u001b[38;5;132;01m{\u001b[39;00mnum_failed_fits\u001b[38;5;132;01m}\u001b[39;00m\u001b[38;5;124m fits failed out of a total of \u001b[39m\u001b[38;5;132;01m{\u001b[39;00mnum_fits\u001b[38;5;132;01m}\u001b[39;00m\u001b[38;5;124m.\u001b[39m\u001b[38;5;130;01m\\n\u001b[39;00m\u001b[38;5;124m\"\u001b[39m\n\u001b[0;32m    372\u001b[0m         \u001b[38;5;124m\"\u001b[39m\u001b[38;5;124mThe score on these train-test partitions for these parameters\u001b[39m\u001b[38;5;124m\"\u001b[39m\n\u001b[1;32m   (...)\u001b[0m\n\u001b[0;32m    376\u001b[0m         \u001b[38;5;124mf\u001b[39m\u001b[38;5;124m\"\u001b[39m\u001b[38;5;124mBelow are more details about the failures:\u001b[39m\u001b[38;5;130;01m\\n\u001b[39;00m\u001b[38;5;132;01m{\u001b[39;00mfit_errors_summary\u001b[38;5;132;01m}\u001b[39;00m\u001b[38;5;124m\"\u001b[39m\n\u001b[0;32m    377\u001b[0m     )\n",
      "\u001b[1;31mValueError\u001b[0m: \nAll the 729 fits failed.\nIt is very likely that your model is misconfigured.\nYou can try to debug the error by setting error_score='raise'.\n\nBelow are more details about the failures:\n--------------------------------------------------------------------------------\n243 fits failed with the following error:\nTraceback (most recent call last):\n  File \"C:\\Users\\RPC\\anaconda3\\Lib\\site-packages\\sklearn\\model_selection\\_validation.py\", line 686, in _fit_and_score\n    estimator.fit(X_train, y_train, **fit_params)\n  File \"C:\\Users\\RPC\\AppData\\Local\\Temp\\ipykernel_6884\\3480740408.py\", line 32, in fit\n    self.model.fit(X, y, epochs=self.epochs, batch_size=self.batch_size)\n  File \"C:\\Users\\RPC\\anaconda3\\Lib\\site-packages\\keras\\src\\utils\\traceback_utils.py\", line 123, in error_handler\n    raise e.with_traceback(filtered_tb) from None\n  File \"C:\\Users\\RPC\\anaconda3\\Lib\\site-packages\\keras\\src\\trainers\\data_adapters\\__init__.py\", line 113, in get_data_adapter\n    raise ValueError(f\"Unrecognized data type: x={x} (of type {type(x)})\")\nValueError: Unrecognized data type: x=[[0.         0.         0.         0.57735027 0.         0.57735027\n  0.57735027 0.         0.        ]\n [0.37443471 0.53534993 0.         0.         0.53534993 0.\n  0.         0.53534993 0.        ]\n [0.37443471 0.53534993 0.         0.         0.53534993 0.\n  0.         0.53534993 0.        ]\n [0.37443471 0.53534993 0.         0.         0.53534993 0.\n  0.         0.53534993 0.        ]\n [0.44331193 0.         0.63382748 0.         0.         0.\n  0.         0.         0.63382748]\n [0.44331193 0.         0.63382748 0.         0.         0.\n  0.         0.         0.63382748]] (of type <class 'numpy.ndarray'>)\n\n--------------------------------------------------------------------------------\n243 fits failed with the following error:\nTraceback (most recent call last):\n  File \"C:\\Users\\RPC\\anaconda3\\Lib\\site-packages\\sklearn\\model_selection\\_validation.py\", line 686, in _fit_and_score\n    estimator.fit(X_train, y_train, **fit_params)\n  File \"C:\\Users\\RPC\\AppData\\Local\\Temp\\ipykernel_6884\\3480740408.py\", line 32, in fit\n    self.model.fit(X, y, epochs=self.epochs, batch_size=self.batch_size)\n  File \"C:\\Users\\RPC\\anaconda3\\Lib\\site-packages\\keras\\src\\utils\\traceback_utils.py\", line 123, in error_handler\n    raise e.with_traceback(filtered_tb) from None\n  File \"C:\\Users\\RPC\\anaconda3\\Lib\\site-packages\\keras\\src\\trainers\\data_adapters\\__init__.py\", line 113, in get_data_adapter\n    raise ValueError(f\"Unrecognized data type: x={x} (of type {type(x)})\")\nValueError: Unrecognized data type: x=[[0.         0.         0.         0.57735027 0.         0.57735027\n  0.57735027 0.         0.        ]\n [0.37443471 0.53534993 0.         0.         0.53534993 0.\n  0.         0.53534993 0.        ]\n [0.37443471 0.53534993 0.         0.         0.53534993 0.\n  0.         0.53534993 0.        ]\n [0.44331193 0.         0.63382748 0.         0.         0.\n  0.         0.         0.63382748]\n [0.37443471 0.53534993 0.         0.         0.53534993 0.\n  0.         0.53534993 0.        ]\n [0.44331193 0.         0.63382748 0.         0.         0.\n  0.         0.         0.63382748]] (of type <class 'numpy.ndarray'>)\n\n--------------------------------------------------------------------------------\n243 fits failed with the following error:\nTraceback (most recent call last):\n  File \"C:\\Users\\RPC\\anaconda3\\Lib\\site-packages\\sklearn\\model_selection\\_validation.py\", line 686, in _fit_and_score\n    estimator.fit(X_train, y_train, **fit_params)\n  File \"C:\\Users\\RPC\\AppData\\Local\\Temp\\ipykernel_6884\\3480740408.py\", line 32, in fit\n    self.model.fit(X, y, epochs=self.epochs, batch_size=self.batch_size)\n  File \"C:\\Users\\RPC\\anaconda3\\Lib\\site-packages\\keras\\src\\utils\\traceback_utils.py\", line 123, in error_handler\n    raise e.with_traceback(filtered_tb) from None\n  File \"C:\\Users\\RPC\\anaconda3\\Lib\\site-packages\\keras\\src\\trainers\\data_adapters\\__init__.py\", line 113, in get_data_adapter\n    raise ValueError(f\"Unrecognized data type: x={x} (of type {type(x)})\")\nValueError: Unrecognized data type: x=[[0.         0.         0.         0.57735027 0.         0.57735027\n  0.57735027 0.         0.        ]\n [0.         0.         0.         0.57735027 0.         0.57735027\n  0.57735027 0.         0.        ]\n [0.37443471 0.53534993 0.         0.         0.53534993 0.\n  0.         0.53534993 0.        ]\n [0.37443471 0.53534993 0.         0.         0.53534993 0.\n  0.         0.53534993 0.        ]\n [0.44331193 0.         0.63382748 0.         0.         0.\n  0.         0.         0.63382748]\n [0.44331193 0.         0.63382748 0.         0.         0.\n  0.         0.         0.63382748]] (of type <class 'numpy.ndarray'>)\n"
     ]
    }
   ],
   "source": [
    "from sklearn.model_selection import GridSearchCV, RandomizedSearchCV\n",
    "from sklearn.model_selection import StratifiedKFold\n",
    "\n",
    "\n",
    "# Determine the number of classes from your data\n",
    "num_classes = len(set(true_indices))  # Assuming true_indices contains numerical labels\n",
    "\n",
    "\n",
    "# Define StratifiedKFold with the desired number of splits\n",
    "kfolds = StratifiedKFold(n_splits=3, shuffle=True, random_state=42)\n",
    "\n",
    "# Initialize GridSearchCV or RandomizedSearchCV with your KerasModel and the param_grid\n",
    "# Use kfolds.split(X, y) instead of just n_splits\n",
    "\n",
    "grid_search = GridSearchCV(KerasModel(), param_grid, cv=kfolds.split(X_train, train_indices))\n",
    "\n",
    "random_search = RandomizedSearchCV(KerasModel(), param_distributions=param_grid, n_iter=10, cv=3)\n",
    "\n",
    "# Fit the models\n",
    "grid_search.fit(X_train, train_indices)\n",
    "random_search.fit(X_train, train_indices)\n",
    "\n",
    "# Print the best hyperparameters\n",
    "print(\"Best hyperparameters for grid search:\", grid_search.best_params_)\n",
    "print(\"Best hyperparameters for random search:\", random_search.best_params_)\n"
   ]
  },
  {
   "cell_type": "code",
   "execution_count": null,
   "id": "b8b27548-2aeb-43bd-b635-79e46c41409a",
   "metadata": {},
   "outputs": [],
   "source": []
  }
 ],
 "metadata": {
  "kernelspec": {
   "display_name": "Python 3 (ipykernel)",
   "language": "python",
   "name": "python3"
  },
  "language_info": {
   "codemirror_mode": {
    "name": "ipython",
    "version": 3
   },
   "file_extension": ".py",
   "mimetype": "text/x-python",
   "name": "python",
   "nbconvert_exporter": "python",
   "pygments_lexer": "ipython3",
   "version": "3.11.7"
  }
 },
 "nbformat": 4,
 "nbformat_minor": 5
}
